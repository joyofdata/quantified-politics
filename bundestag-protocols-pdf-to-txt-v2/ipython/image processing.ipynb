{
 "cells": [
  {
   "cell_type": "code",
   "execution_count": 18,
   "metadata": {
    "collapsed": true
   },
   "outputs": [],
   "source": [
    "std_config = {\n",
    "        \"margin\":10,\n",
    "        \"init_crop\": {\n",
    "                \"r1\":230, \n",
    "                \"r2\":5650, \n",
    "                \"c1\":400, \n",
    "                \"c2\": 3770\n",
    "            },\n",
    "        \"std_crop\": {\n",
    "            \"margin\": 10,\n",
    "            \"max_black\": {\n",
    "                    \"top\":   0,\n",
    "                    \"bottom\":0,\n",
    "                    \"left\":  0,\n",
    "                    \"right\": 0\n",
    "                }\n",
    "            },\n",
    "        \"seg\": {\n",
    "                \"horizontal_1\": {\n",
    "                        \"min_size\": 50,\n",
    "                        \"max_black\": 0\n",
    "                    },\n",
    "                \"vertical\": {\n",
    "                        \"min_size\":  40,\n",
    "                        \"max_black\": 0\n",
    "                    },\n",
    "                \"horizontal_2\": {\n",
    "                        \"min_size\": 45,\n",
    "                        \"max_black\": 0\n",
    "                    }\n",
    "            }\n",
    "    }"
   ]
  },
  {
   "cell_type": "markdown",
   "metadata": {},
   "source": [
    "#Full Process - PDF to TXT"
   ]
  },
  {
   "cell_type": "code",
   "execution_count": 2,
   "metadata": {
    "collapsed": true
   },
   "outputs": [],
   "source": [
    "from PIL import Image\n",
    "import numpy as np\n",
    "import sys\n",
    "import matplotlib.pyplot as plt\n",
    "import os\n",
    "\n",
    "sys.path.append(\"..\")\n",
    "import conversion_pdf_to_txt as pt"
   ]
  },
  {
   "cell_type": "code",
   "execution_count": 3,
   "metadata": {
    "collapsed": false
   },
   "outputs": [],
   "source": [
    "pt.convert_pdf_to_txt_IO(\"18026.pdf\",\"../processing/\",\"pngmono\",\"../processing/imgs/\",\"../processing/segs/\",std_config)"
   ]
  },
  {
   "cell_type": "markdown",
   "metadata": {},
   "source": [
    "#Segmenting Images"
   ]
  },
  {
   "cell_type": "code",
   "execution_count": 19,
   "metadata": {
    "collapsed": false
   },
   "outputs": [],
   "source": [
    "from PIL import Image\n",
    "import numpy as np\n",
    "import sys\n",
    "import matplotlib.pyplot as plt\n",
    "import os\n",
    "\n",
    "sys.path.append(\"..\")\n",
    "import conversion_pdf_to_txt as pt\n",
    "\n",
    "img = Image.open(\"../processing/imgs/18001.pdf_014.png\")\n",
    "arr = np.asarray(img)\n",
    "w,h=img.size"
   ]
  },
  {
   "cell_type": "code",
   "execution_count": 20,
   "metadata": {
    "collapsed": false
   },
   "outputs": [],
   "source": [
    "#pt.plot_page_and_black_white_projection(img, std_config, \"init_crop\")"
   ]
  },
  {
   "cell_type": "code",
   "execution_count": 21,
   "metadata": {
    "collapsed": false
   },
   "outputs": [],
   "source": [
    "pt.plot_page_and_black_white_projection(img, std_config, \"h2_crop\")"
   ]
  },
  {
   "cell_type": "code",
   "execution_count": null,
   "metadata": {
    "collapsed": false
   },
   "outputs": [],
   "source": [
    "segs = pt.calc_segments_for_image(img, std_config)\n",
    "imgs = pt.segment_image(img, segs[\"h2_crop\"])"
   ]
  },
  {
   "cell_type": "markdown",
   "metadata": {},
   "source": [
    "#Averaging Images"
   ]
  },
  {
   "cell_type": "code",
   "execution_count": 17,
   "metadata": {
    "collapsed": true
   },
   "outputs": [],
   "source": [
    "from PIL import Image\n",
    "import numpy as np\n",
    "import sys\n",
    "import matplotlib.pyplot as plt\n",
    "import os\n",
    "\n",
    "sys.path.append(\"..\")\n",
    "import conversion_pdf_to_txt as pt\n",
    "import glob"
   ]
  },
  {
   "cell_type": "code",
   "execution_count": 14,
   "metadata": {
    "collapsed": false
   },
   "outputs": [
    {
     "name": "stdout",
     "output_type": "stream",
     "text": [
      "./pngs/18026.pdf_000.png\n",
      "./pngs/18026.pdf_001.png\n",
      "./pngs/18026.pdf_002.png\n",
      "./pngs/18026.pdf_003.png\n",
      "./pngs/18026.pdf_004.png\n",
      "./pngs/18026.pdf_005.png\n",
      "./pngs/18026.pdf_006.png\n",
      "./pngs/18026.pdf_007.png\n",
      "./pngs/18026.pdf_008.png\n",
      "./pngs/18026.pdf_009.png\n",
      "./pngs/18026.pdf_010.png\n",
      "./pngs/18026.pdf_011.png\n",
      "./pngs/18026.pdf_028.png\n",
      "./pngs/18026.pdf_045.png\n",
      "./pngs/18026.pdf_062.png\n",
      "./pngs/18026.pdf_079.png\n",
      "./pngs/18026.pdf_096.png\n",
      "./pngs/18026.pdf_113.png\n",
      "./pngs/18026.pdf_130.png\n",
      "./pngs/18026.pdf_147.png\n",
      "./pngs/18026.pdf_012.png\n",
      "./pngs/18026.pdf_013.png\n",
      "./pngs/18026.pdf_014.png\n",
      "./pngs/18026.pdf_015.png\n",
      "./pngs/18026.pdf_016.png\n",
      "./pngs/18026.pdf_017.png\n",
      "./pngs/18026.pdf_018.png\n",
      "./pngs/18026.pdf_019.png\n",
      "./pngs/18026.pdf_020.png\n",
      "./pngs/18026.pdf_021.png\n",
      "./pngs/18026.pdf_022.png\n",
      "./pngs/18026.pdf_023.png\n",
      "./pngs/18026.pdf_024.png\n",
      "./pngs/18026.pdf_025.png\n",
      "./pngs/18026.pdf_026.png\n",
      "./pngs/18026.pdf_027.png\n",
      "./pngs/18026.pdf_029.png\n",
      "./pngs/18026.pdf_030.png\n",
      "./pngs/18026.pdf_031.png\n",
      "./pngs/18026.pdf_032.png\n",
      "./pngs/18026.pdf_033.png\n",
      "./pngs/18026.pdf_034.png\n",
      "./pngs/18026.pdf_035.png\n",
      "./pngs/18026.pdf_036.png\n",
      "./pngs/18026.pdf_037.png\n",
      "./pngs/18026.pdf_038.png\n",
      "./pngs/18026.pdf_039.png\n",
      "./pngs/18026.pdf_040.png\n",
      "./pngs/18026.pdf_041.png\n",
      "./pngs/18026.pdf_042.png\n",
      "./pngs/18026.pdf_043.png\n",
      "./pngs/18026.pdf_044.png\n",
      "./pngs/18026.pdf_046.png\n",
      "./pngs/18026.pdf_047.png\n",
      "./pngs/18026.pdf_048.png\n",
      "./pngs/18026.pdf_049.png\n",
      "./pngs/18026.pdf_050.png\n",
      "./pngs/18026.pdf_051.png\n",
      "./pngs/18026.pdf_052.png\n",
      "./pngs/18026.pdf_053.png\n",
      "./pngs/18026.pdf_054.png\n",
      "./pngs/18026.pdf_055.png\n",
      "./pngs/18026.pdf_056.png\n",
      "./pngs/18026.pdf_057.png\n",
      "./pngs/18026.pdf_058.png\n",
      "./pngs/18026.pdf_059.png\n",
      "./pngs/18026.pdf_060.png\n",
      "./pngs/18026.pdf_061.png\n",
      "./pngs/18026.pdf_063.png\n",
      "./pngs/18026.pdf_064.png\n",
      "./pngs/18026.pdf_065.png\n",
      "./pngs/18026.pdf_066.png\n",
      "./pngs/18026.pdf_067.png\n",
      "./pngs/18026.pdf_068.png\n",
      "./pngs/18026.pdf_069.png\n",
      "./pngs/18026.pdf_070.png\n",
      "./pngs/18026.pdf_071.png\n",
      "./pngs/18026.pdf_072.png\n",
      "./pngs/18026.pdf_073.png\n",
      "./pngs/18026.pdf_074.png\n",
      "./pngs/18026.pdf_075.png\n",
      "./pngs/18026.pdf_076.png\n",
      "./pngs/18026.pdf_077.png\n",
      "./pngs/18026.pdf_078.png\n",
      "./pngs/18026.pdf_080.png\n",
      "./pngs/18026.pdf_081.png\n",
      "./pngs/18026.pdf_082.png\n",
      "./pngs/18026.pdf_083.png\n",
      "./pngs/18026.pdf_084.png\n",
      "./pngs/18026.pdf_085.png\n",
      "./pngs/18026.pdf_086.png\n",
      "./pngs/18026.pdf_087.png\n",
      "./pngs/18026.pdf_088.png\n",
      "./pngs/18026.pdf_089.png\n",
      "./pngs/18026.pdf_090.png\n",
      "./pngs/18026.pdf_091.png\n",
      "./pngs/18026.pdf_092.png\n",
      "./pngs/18026.pdf_093.png\n",
      "./pngs/18026.pdf_094.png\n",
      "./pngs/18026.pdf_095.png\n",
      "./pngs/18026.pdf_097.png\n",
      "./pngs/18026.pdf_098.png\n",
      "./pngs/18026.pdf_099.png\n",
      "./pngs/18026.pdf_100.png\n",
      "./pngs/18026.pdf_101.png\n",
      "./pngs/18026.pdf_102.png\n",
      "./pngs/18026.pdf_103.png\n",
      "./pngs/18026.pdf_104.png\n",
      "./pngs/18026.pdf_105.png\n",
      "./pngs/18026.pdf_106.png\n",
      "./pngs/18026.pdf_107.png\n",
      "./pngs/18026.pdf_108.png\n",
      "./pngs/18026.pdf_109.png\n",
      "./pngs/18026.pdf_110.png\n",
      "./pngs/18026.pdf_111.png\n",
      "./pngs/18026.pdf_112.png\n",
      "./pngs/18026.pdf_114.png\n",
      "./pngs/18026.pdf_115.png\n",
      "./pngs/18026.pdf_116.png\n",
      "./pngs/18026.pdf_117.png\n",
      "./pngs/18026.pdf_118.png\n",
      "./pngs/18026.pdf_119.png\n",
      "./pngs/18026.pdf_120.png\n",
      "./pngs/18026.pdf_121.png\n",
      "./pngs/18026.pdf_122.png\n",
      "./pngs/18026.pdf_123.png\n",
      "./pngs/18026.pdf_124.png\n",
      "./pngs/18026.pdf_125.png\n",
      "./pngs/18026.pdf_126.png\n",
      "./pngs/18026.pdf_127.png\n",
      "./pngs/18026.pdf_128.png\n",
      "./pngs/18026.pdf_129.png\n",
      "./pngs/18026.pdf_131.png\n",
      "./pngs/18026.pdf_132.png\n",
      "./pngs/18026.pdf_133.png\n",
      "./pngs/18026.pdf_134.png\n",
      "./pngs/18026.pdf_135.png\n",
      "./pngs/18026.pdf_136.png\n",
      "./pngs/18026.pdf_137.png\n",
      "./pngs/18026.pdf_138.png\n",
      "./pngs/18026.pdf_139.png\n",
      "./pngs/18026.pdf_140.png\n",
      "./pngs/18026.pdf_141.png\n",
      "./pngs/18026.pdf_142.png\n",
      "./pngs/18026.pdf_143.png\n",
      "./pngs/18026.pdf_144.png\n",
      "./pngs/18026.pdf_145.png\n",
      "./pngs/18026.pdf_146.png\n",
      "./pngs/18026.pdf_148.png\n",
      "./pngs/18026.pdf_149.png\n",
      "./pngs/18026.pdf_150.png\n",
      "./pngs/18026.pdf_151.png\n",
      "./pngs/18026.pdf_152.png\n",
      "./pngs/18026.pdf_153.png\n",
      "./pngs/18026.pdf_154.png\n",
      "./pngs/18026.pdf_155.png\n",
      "./pngs/18026.pdf_156.png\n",
      "./pngs/18026.pdf_157.png\n",
      "./pngs/18026.pdf_158.png\n",
      "./pngs/18026.pdf_159.png\n",
      "./pngs/18026.pdf_160.png\n",
      "./pngs/18026.pdf_161.png\n",
      "./pngs/18026.pdf_162.png\n",
      "./pngs/18026.pdf_163.png\n",
      "./pngs/18026.pdf_164.png\n",
      "./pngs/18026.pdf_165.png\n",
      "./pngs/18026.pdf_166.png\n",
      "./pngs/18026.pdf_167.png\n",
      "./pngs/18026.pdf_168.png\n",
      "./pngs/18026.pdf_169.png\n",
      "./pngs/18026.pdf_170.png\n",
      "./pngs/18026.pdf_171.png\n"
     ]
    }
   ],
   "source": [
    "arr = None\n",
    "for f in glob.glob(\"./pngs/18026*\"):\n",
    "    print(f)\n",
    "    img = Image.open(f)\n",
    "    if arr is None:\n",
    "        arr = np.asarray(img)\n",
    "    else:\n",
    "        arr = np.maximum(arr, np.asarray(img))"
   ]
  },
  {
   "cell_type": "code",
   "execution_count": 21,
   "metadata": {
    "collapsed": false
   },
   "outputs": [],
   "source": [
    "plt.imshow(arr)\n",
    "plt.show()"
   ]
  },
  {
   "cell_type": "code",
   "execution_count": 20,
   "metadata": {
    "collapsed": false
   },
   "outputs": [
    {
     "data": {
      "text/plain": [
       "[{'c1': 492, 'c2': 3758, 'r1': 330, 'r2': 5655}]"
      ]
     },
     "execution_count": 20,
     "metadata": {},
     "output_type": "execute_result"
    }
   ],
   "source": [
    "h,w = arr.shape\n",
    "segs = [{\"r1\":0,\"r2\":h-1,\"c1\":0,\"c2\":w-1}]\n",
    "config = {\"margin\":20, \"max_black\": {\"top\":0.01,\"bottom\":0.01,\"left\":0.1,\"right\":0.1}}\n",
    "pt.crop_segments(arr, segs, config)"
   ]
  }
 ],
 "metadata": {
  "kernelspec": {
   "display_name": "Python 3",
   "language": "python",
   "name": "python3"
  },
  "language_info": {
   "codemirror_mode": {
    "name": "ipython",
    "version": 3
   },
   "file_extension": ".py",
   "mimetype": "text/x-python",
   "name": "python",
   "nbconvert_exporter": "python",
   "pygments_lexer": "ipython3",
   "version": "3.4.0"
  }
 },
 "nbformat": 4,
 "nbformat_minor": 0
}
