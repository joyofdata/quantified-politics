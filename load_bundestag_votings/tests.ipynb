{
 "cells": [
  {
   "cell_type": "markdown",
   "metadata": {},
   "source": [
    "#Download from URL"
   ]
  },
  {
   "cell_type": "code",
   "execution_count": 1,
   "metadata": {
    "collapsed": true
   },
   "outputs": [],
   "source": [
    "import requests"
   ]
  },
  {
   "cell_type": "code",
   "execution_count": 2,
   "metadata": {
    "collapsed": true
   },
   "outputs": [],
   "source": [
    "page = requests.get(\"https://bundestag.de/apps/na/na/fraktion.form?id=200\")"
   ]
  },
  {
   "cell_type": "code",
   "execution_count": 3,
   "metadata": {
    "collapsed": false
   },
   "outputs": [],
   "source": [
    "html = page.content"
   ]
  },
  {
   "cell_type": "code",
   "execution_count": 4,
   "metadata": {
    "collapsed": false
   },
   "outputs": [
    {
     "data": {
      "text/plain": [
       "200"
      ]
     },
     "execution_count": 4,
     "metadata": {},
     "output_type": "execute_result"
    }
   ],
   "source": [
    "page.status_code"
   ]
  },
  {
   "cell_type": "markdown",
   "metadata": {},
   "source": [
    "#Parse HTML for votings"
   ]
  },
  {
   "cell_type": "code",
   "execution_count": 5,
   "metadata": {
    "collapsed": true
   },
   "outputs": [],
   "source": [
    "import bs4\n",
    "import re"
   ]
  },
  {
   "cell_type": "code",
   "execution_count": 6,
   "metadata": {
    "collapsed": true
   },
   "outputs": [],
   "source": [
    "soup = bs4.BeautifulSoup(html)"
   ]
  },
  {
   "cell_type": "code",
   "execution_count": 7,
   "metadata": {
    "collapsed": false
   },
   "outputs": [],
   "source": [
    "vec_div_namentlichBlock = soup.find_all(\"div\", class_=\"namentlichBlock\")"
   ]
  },
  {
   "cell_type": "code",
   "execution_count": 8,
   "metadata": {
    "collapsed": false
   },
   "outputs": [],
   "source": [
    "vec_li = []\n",
    "for div_namentlichBlock in vec_div_namentlichBlock:\n",
    "    vec_li += div_namentlichBlock.find_all(\"li\")"
   ]
  },
  {
   "cell_type": "code",
   "execution_count": 9,
   "metadata": {
    "collapsed": false
   },
   "outputs": [],
   "source": [
    "def type_voting(str):\n",
    "    if(str == \"Mit ja abgestimmt\"):\n",
    "        return 1\n",
    "    elif(str == \"Mit nein abgestimmt\"):\n",
    "        return -1\n",
    "    elif(str == \"Enthalten\"):\n",
    "        return 0\n",
    "    elif(str == \"Nicht anwesend\"):\n",
    "        return -10\n",
    "    else:\n",
    "        error(\"uuups ... what's that?\")"
   ]
  },
  {
   "cell_type": "code",
   "execution_count": 10,
   "metadata": {
    "collapsed": false
   },
   "outputs": [],
   "source": [
    "votings_data = []\n",
    "for li in vec_li:\n",
    "    title = li.a[\"title\"]\n",
    "    vote_parts = re.search(\"([^:]+):([^:]+):([^():]+)\",title)\n",
    "    votings_data.append({\n",
    "            \"type\": type_voting(vote_parts.group(1)),\n",
    "            \"name\": vote_parts.group(2).strip(),\n",
    "            \"party\": vote_parts.group(3).strip()\n",
    "        })"
   ]
  },
  {
   "cell_type": "code",
   "execution_count": 11,
   "metadata": {
    "collapsed": false
   },
   "outputs": [
    {
     "data": {
      "text/plain": [
       "[{'name': 'Ackermann, Jens', 'party': 'FDP', 'type': 1},\n",
       " {'name': 'Ahrendt, Christian', 'party': 'FDP', 'type': 1},\n",
       " {'name': 'Aigner, Ilse', 'party': 'CDU/CSU', 'type': 1},\n",
       " {'name': 'Aken, Jan van', 'party': 'Die Linke', 'type': -1},\n",
       " {'name': 'Alpers, Agnes', 'party': 'Die Linke', 'type': -1},\n",
       " {'name': 'Altmaier, Peter', 'party': 'CDU/CSU', 'type': -10},\n",
       " {'name': 'Andreae, Kerstin', 'party': 'B90/Grüne', 'type': 1},\n",
       " {'name': 'Arndt-Brauer, Ingrid', 'party': 'SPD', 'type': 1},\n",
       " {'name': 'Arnold, Rainer', 'party': 'SPD', 'type': 1},\n",
       " {'name': 'Aschenberg-Dugnus, Christine', 'party': 'FDP', 'type': 1},\n",
       " {'name': 'Aumer, Peter', 'party': 'CDU/CSU', 'type': 1},\n",
       " {'name': 'Bahr, Daniel', 'party': 'FDP', 'type': 1},\n",
       " {'name': 'Barchmann, Heinz-Joachim', 'party': 'SPD', 'type': 1},\n",
       " {'name': 'Bareiß, Thomas', 'party': 'CDU/CSU', 'type': 1},\n",
       " {'name': 'Barnett, Doris', 'party': 'SPD', 'type': 1},\n",
       " {'name': 'Bartels, Dr. Hans-Peter', 'party': 'SPD', 'type': 1},\n",
       " {'name': 'Barthel, Klaus', 'party': 'SPD', 'type': -1},\n",
       " {'name': 'Barthle, Norbert', 'party': 'CDU/CSU', 'type': 1},\n",
       " {'name': 'Bartol, Sören', 'party': 'SPD', 'type': 1},\n",
       " {'name': 'Bartsch, Dr. Dietmar', 'party': 'Die Linke', 'type': -1},\n",
       " {'name': 'Bas, Bärbel', 'party': 'SPD', 'type': -1},\n",
       " {'name': 'Baumann, Günter', 'party': 'CDU/CSU', 'type': 1},\n",
       " {'name': 'Beck, Ernst-Reinhard', 'party': 'CDU/CSU', 'type': 1},\n",
       " {'name': 'Beck, Marieluise', 'party': 'B90/Grüne', 'type': 1},\n",
       " {'name': 'Beck, Volker', 'party': 'B90/Grüne', 'type': 1},\n",
       " {'name': 'Becker, Dirk', 'party': 'SPD', 'type': 1},\n",
       " {'name': 'Beckmeyer, Uwe', 'party': 'SPD', 'type': 1},\n",
       " {'name': 'Behm, Cornelia', 'party': 'B90/Grüne', 'type': 1},\n",
       " {'name': 'Behrens, Herbert', 'party': 'Die Linke', 'type': -1},\n",
       " {'name': 'Behrens, Manfred', 'party': 'CDU/CSU', 'type': 1},\n",
       " {'name': 'Bellmann, Veronika', 'party': 'CDU/CSU', 'type': 1},\n",
       " {'name': 'Bender, Birgitt', 'party': 'B90/Grüne', 'type': 1},\n",
       " {'name': 'Bergner, Dr. Christoph', 'party': 'CDU/CSU', 'type': 1},\n",
       " {'name': 'Bernschneider, Florian', 'party': 'FDP', 'type': 1},\n",
       " {'name': 'Beyer, Peter', 'party': 'CDU/CSU', 'type': 1},\n",
       " {'name': 'Bilger, Steffen', 'party': 'CDU/CSU', 'type': 1},\n",
       " {'name': 'Binder, Karin', 'party': 'Die Linke', 'type': -10},\n",
       " {'name': 'Binding, Lothar', 'party': 'SPD', 'type': -1},\n",
       " {'name': 'Binninger, Clemens', 'party': 'CDU/CSU', 'type': 1},\n",
       " {'name': 'Birkwald, Matthias W.', 'party': 'Die Linke', 'type': -1},\n",
       " {'name': 'Bleser, Peter', 'party': 'CDU/CSU', 'type': 1},\n",
       " {'name': 'Bluhm, Heidrun', 'party': 'Die Linke', 'type': -1},\n",
       " {'name': 'Blumenthal, Sebastian', 'party': 'FDP', 'type': 1},\n",
       " {'name': 'Bockhahn, Steffen', 'party': 'Die Linke', 'type': -1},\n",
       " {'name': 'Bollmann, Gerd', 'party': 'SPD', 'type': 1},\n",
       " {'name': 'Bosbach, Wolfgang', 'party': 'CDU/CSU', 'type': -10},\n",
       " {'name': 'Bracht-Bendt, Nicole', 'party': 'FDP', 'type': 1},\n",
       " {'name': 'Brackmann, Norbert', 'party': 'CDU/CSU', 'type': 1},\n",
       " {'name': 'Brand, Michael', 'party': 'CDU/CSU', 'type': 1},\n",
       " {'name': 'Brandl, Dr. Reinhard', 'party': 'CDU/CSU', 'type': 1},\n",
       " {'name': 'Brandner, Klaus', 'party': 'SPD', 'type': 1},\n",
       " {'name': 'Brandt, Helmut', 'party': 'CDU/CSU', 'type': 1},\n",
       " {'name': 'Brase, Willi', 'party': 'SPD', 'type': 1},\n",
       " {'name': 'Brauksiepe, Dr. Ralf', 'party': 'CDU/CSU', 'type': -10},\n",
       " {'name': 'Braun, Dr. Helge', 'party': 'CDU/CSU', 'type': 1},\n",
       " {'name': 'Brehmer, Heike', 'party': 'CDU/CSU', 'type': 1},\n",
       " {'name': 'Breil, Klaus', 'party': 'FDP', 'type': 1},\n",
       " {'name': 'Brinkhaus, Ralph', 'party': 'CDU/CSU', 'type': 1},\n",
       " {'name': 'Brinkmann, Bernhard', 'party': 'SPD', 'type': -10},\n",
       " {'name': 'Brugger, Agnes', 'party': 'B90/Grüne', 'type': -10},\n",
       " {'name': 'Brunkhorst, Angelika', 'party': 'FDP', 'type': 1},\n",
       " {'name': 'Brähmig, Klaus', 'party': 'CDU/CSU', 'type': 1},\n",
       " {'name': 'Brüderle, Rainer', 'party': 'FDP', 'type': 1},\n",
       " {'name': 'Buchholz, Christine', 'party': 'Die Linke', 'type': -1},\n",
       " {'name': 'Bulling-Schröter, Eva', 'party': 'Die Linke', 'type': -1},\n",
       " {'name': 'Bulmahn, Edelgard', 'party': 'SPD', 'type': 1},\n",
       " {'name': 'Bunge, Dr. Martina', 'party': 'Die Linke', 'type': -1},\n",
       " {'name': 'Burchardt, Ulla', 'party': 'SPD', 'type': -1},\n",
       " {'name': 'Burgbacher, Ernst', 'party': 'FDP', 'type': -10},\n",
       " {'name': 'Burkert, Martin', 'party': 'SPD', 'type': 1},\n",
       " {'name': 'Buschmann, Marco', 'party': 'FDP', 'type': 1},\n",
       " {'name': 'Bär, Dorothee', 'party': 'CDU/CSU', 'type': 1},\n",
       " {'name': 'Bätzing-Lichtenthäler, Sabine', 'party': 'SPD', 'type': -10},\n",
       " {'name': 'Bögel, Claudia', 'party': 'FDP', 'type': 1},\n",
       " {'name': 'Böhmer, Dr. Maria', 'party': 'CDU/CSU', 'type': 1},\n",
       " {'name': 'Börnsen, Wolfgang', 'party': 'CDU/CSU', 'type': 1},\n",
       " {'name': 'Bülow, Marco', 'party': 'SPD', 'type': 0},\n",
       " {'name': 'Caesar, Cajus', 'party': 'CDU/CSU', 'type': 1},\n",
       " {'name': 'Canel, Sylvia', 'party': 'FDP', 'type': 1},\n",
       " {'name': 'Claus, Roland', 'party': 'Die Linke', 'type': -1},\n",
       " {'name': 'Connemann, Gitta', 'party': 'CDU/CSU', 'type': 1},\n",
       " {'name': 'Cramon-Taubadel, Viola von', 'party': 'B90/Grüne', 'type': 1},\n",
       " {'name': 'Crone, Petra', 'party': 'SPD', 'type': 1},\n",
       " {'name': 'Danckert, Prof. Dr. Peter', 'party': 'SPD', 'type': -1},\n",
       " {'name': 'Daub, Helga', 'party': 'FDP', 'type': 1},\n",
       " {'name': 'Dağdelen, Sevim', 'party': 'Die Linke', 'type': -1},\n",
       " {'name': 'Dehm, Dr. Diether', 'party': 'Die Linke', 'type': -1},\n",
       " {'name': 'Deligöz, Ekin', 'party': 'B90/Grüne', 'type': 1},\n",
       " {'name': 'Deutschmann, Reiner', 'party': 'FDP', 'type': 1},\n",
       " {'name': 'Dittrich, Heidrun', 'party': 'Die Linke', 'type': -1},\n",
       " {'name': 'Djir-Sarai, Bijan', 'party': 'FDP', 'type': 1},\n",
       " {'name': 'Dobrindt, Alexander', 'party': 'CDU/CSU', 'type': 1},\n",
       " {'name': 'Dreibus, Werner', 'party': 'Die Linke', 'type': -1},\n",
       " {'name': 'Drobinski-Weiß, Elvira', 'party': 'SPD', 'type': 1},\n",
       " {'name': 'Dyckmans, Mechthild', 'party': 'FDP', 'type': 1},\n",
       " {'name': 'Dörflinger, Thomas', 'party': 'CDU/CSU', 'type': 1},\n",
       " {'name': 'Döring, Patrick', 'party': 'FDP', 'type': 1},\n",
       " {'name': 'Dörmann, Martin', 'party': 'SPD', 'type': 1},\n",
       " {'name': 'Dörner, Katja', 'party': 'B90/Grüne', 'type': 1},\n",
       " {'name': 'Dött, Marie-Luise', 'party': 'CDU/CSU', 'type': 1},\n",
       " {'name': 'Ebner, Harald', 'party': 'B90/Grüne', 'type': 1},\n",
       " {'name': 'Edathy, Sebastian', 'party': 'SPD', 'type': 1},\n",
       " {'name': 'Egloff, Ingo', 'party': 'SPD', 'type': 1},\n",
       " {'name': 'Ehrenberg, Hans-Werner', 'party': 'FDP', 'type': 1},\n",
       " {'name': 'Ehrmann, Siegmund', 'party': 'SPD', 'type': 1},\n",
       " {'name': 'Enkelmann, Dr. Dagmar', 'party': 'Die Linke', 'type': -1},\n",
       " {'name': 'Erdel, Rainer', 'party': 'FDP', 'type': 1},\n",
       " {'name': 'Erler, Dr. h.c. Gernot', 'party': 'SPD', 'type': 1},\n",
       " {'name': 'Ernst, Klaus', 'party': 'Die Linke', 'type': -1},\n",
       " {'name': 'Ernstberger, Petra', 'party': 'SPD', 'type': 1},\n",
       " {'name': 'Essen, Jörg van', 'party': 'FDP', 'type': 1},\n",
       " {'name': 'Evers-Meyer, Karin', 'party': 'SPD', 'type': -10},\n",
       " {'name': 'Feist, Dr. Thomas', 'party': 'CDU/CSU', 'type': 1},\n",
       " {'name': 'Fell, Hans-Josef', 'party': 'B90/Grüne', 'type': 1},\n",
       " {'name': 'Ferlemann, Enak', 'party': 'CDU/CSU', 'type': 1},\n",
       " {'name': 'Ferner, Elke', 'party': 'SPD', 'type': 1},\n",
       " {'name': 'Fischbach, Ingrid', 'party': 'CDU/CSU', 'type': 1},\n",
       " {'name': 'Fischer, Axel E.', 'party': 'CDU/CSU', 'type': -10},\n",
       " {'name': 'Fischer, Dirk', 'party': 'CDU/CSU', 'type': 1},\n",
       " {'name': 'Fischer, Hartwig', 'party': 'CDU/CSU', 'type': -10},\n",
       " {'name': 'Flach, Ulrike', 'party': 'FDP', 'type': -10},\n",
       " {'name': 'Flachsbarth, Dr. Maria', 'party': 'CDU/CSU', 'type': 1},\n",
       " {'name': 'Flosbach, Klaus-Peter', 'party': 'CDU/CSU', 'type': 1},\n",
       " {'name': 'Fograscher, Gabriele', 'party': 'SPD', 'type': 1},\n",
       " {'name': 'Franke, Dr. Edgar', 'party': 'SPD', 'type': 1},\n",
       " {'name': 'Frankenhauser, Herbert', 'party': 'CDU/CSU', 'type': -10},\n",
       " {'name': 'Freitag, Dagmar', 'party': 'SPD', 'type': 1},\n",
       " {'name': 'Fricke, Otto', 'party': 'FDP', 'type': 1},\n",
       " {'name': 'Friedrich, Dr. Hans-Peter', 'party': 'CDU/CSU', 'type': 1},\n",
       " {'name': 'Frieser, Michael', 'party': 'CDU/CSU', 'type': 1},\n",
       " {'name': 'Fritz, Erich G.', 'party': 'CDU/CSU', 'type': 1},\n",
       " {'name': 'Fuchs, Dr. Michael', 'party': 'CDU/CSU', 'type': -10},\n",
       " {'name': 'Fuchtel, Hans-Joachim', 'party': 'CDU/CSU', 'type': 1},\n",
       " {'name': 'Funk, Alexander', 'party': 'CDU/CSU', 'type': 1},\n",
       " {'name': 'Gabriel, Sigmar', 'party': 'SPD', 'type': 1},\n",
       " {'name': 'Gambke, Dr. Thomas', 'party': 'B90/Grüne', 'type': 1},\n",
       " {'name': 'Gauweiler, Dr. Peter', 'party': 'CDU/CSU', 'type': -10},\n",
       " {'name': 'Gebhart, Dr. Thomas', 'party': 'CDU/CSU', 'type': 1},\n",
       " {'name': 'Gehrcke, Wolfgang', 'party': 'Die Linke', 'type': -1},\n",
       " {'name': 'Gehring, Kai', 'party': 'B90/Grüne', 'type': 1},\n",
       " {'name': 'Geis, Norbert', 'party': 'CDU/CSU', 'type': 1},\n",
       " {'name': 'Geisen, Dr. Edmund Peter', 'party': 'FDP', 'type': 1},\n",
       " {'name': 'Gerdes, Michael', 'party': 'SPD', 'type': 1},\n",
       " {'name': 'Gerhardt, Dr. Wolfgang', 'party': 'FDP', 'type': -10},\n",
       " {'name': 'Gerig, Alois', 'party': 'CDU/CSU', 'type': 1},\n",
       " {'name': 'Gerster, Martin', 'party': 'SPD', 'type': 1},\n",
       " {'name': 'Gienger, Eberhard', 'party': 'CDU/CSU', 'type': 1},\n",
       " {'name': 'Gleicke, Iris', 'party': 'SPD', 'type': 1},\n",
       " {'name': 'Glos, Michael', 'party': 'CDU/CSU', 'type': -10},\n",
       " {'name': 'Gloser, Günter', 'party': 'SPD', 'type': 1},\n",
       " {'name': 'Gohlke, Nicole', 'party': 'Die Linke', 'type': -1},\n",
       " {'name': 'Goldmann, Hans-Michael', 'party': 'FDP', 'type': 1},\n",
       " {'name': 'Golombeck, Heinz', 'party': 'FDP', 'type': -10},\n",
       " {'name': 'Golze, Diana', 'party': 'Die Linke', 'type': -1},\n",
       " {'name': 'Gottschalck, Ulrike', 'party': 'SPD', 'type': -10},\n",
       " {'name': 'Graf, Angelika', 'party': 'SPD', 'type': -1},\n",
       " {'name': 'Granold, Ute', 'party': 'CDU/CSU', 'type': 1},\n",
       " {'name': 'Griese, Kerstin', 'party': 'SPD', 'type': 1},\n",
       " {'name': 'Grindel, Reinhard', 'party': 'CDU/CSU', 'type': 1},\n",
       " {'name': 'Groneberg, Gabriele', 'party': 'SPD', 'type': 1},\n",
       " {'name': 'Grosse-Brömer, Michael', 'party': 'CDU/CSU', 'type': 1},\n",
       " {'name': 'Groth, Annette', 'party': 'Die Linke', 'type': -1},\n",
       " {'name': 'Groß, Michael Peter', 'party': 'SPD', 'type': -10},\n",
       " {'name': 'Grund, Manfred', 'party': 'CDU/CSU', 'type': 1},\n",
       " {'name': 'Gruß, Miriam', 'party': 'FDP', 'type': 1},\n",
       " {'name': 'Gröhe, Hermann', 'party': 'CDU/CSU', 'type': 1},\n",
       " {'name': 'Grübel, Markus', 'party': 'CDU/CSU', 'type': 1},\n",
       " {'name': 'Grütters, Monika', 'party': 'CDU/CSU', 'type': 1},\n",
       " {'name': 'Gunkel, Wolfgang', 'party': 'SPD', 'type': 1},\n",
       " {'name': 'Gutting, Olav', 'party': 'CDU/CSU', 'type': -10},\n",
       " {'name': 'Gysi, Dr. Gregor', 'party': 'Die Linke', 'type': -1},\n",
       " {'name': 'Gädechens, Ingo', 'party': 'CDU/CSU', 'type': 1},\n",
       " {'name': 'Göppel, Josef', 'party': 'CDU/CSU', 'type': -10},\n",
       " {'name': 'Göring-Eckardt, Katrin', 'party': 'B90/Grüne', 'type': 1},\n",
       " {'name': 'Götz, Peter', 'party': 'CDU/CSU', 'type': 1},\n",
       " {'name': 'Götzer, Dr. Wolfgang', 'party': 'CDU/CSU', 'type': 1},\n",
       " {'name': 'Günther, Joachim', 'party': 'FDP', 'type': -10},\n",
       " {'name': 'Hacker, Hans-Joachim', 'party': 'SPD', 'type': -1},\n",
       " {'name': 'Hagedorn, Bettina', 'party': 'SPD', 'type': 1},\n",
       " {'name': 'Hagemann, Klaus', 'party': 'SPD', 'type': 1},\n",
       " {'name': 'Hahn, Florian', 'party': 'CDU/CSU', 'type': 1},\n",
       " {'name': 'Happach-Kasan, Dr. Christel', 'party': 'FDP', 'type': 1},\n",
       " {'name': 'Harbarth, Dr. Stephan', 'party': 'CDU/CSU', 'type': -10},\n",
       " {'name': 'Hardt, Jürgen', 'party': 'CDU/CSU', 'type': 1},\n",
       " {'name': 'Hartmann, Michael', 'party': 'SPD', 'type': 1},\n",
       " {'name': 'Hasselfeldt, Gerda', 'party': 'CDU/CSU', 'type': 1},\n",
       " {'name': 'Haustein, Heinz-Peter', 'party': 'FDP', 'type': 1},\n",
       " {'name': 'Haßelmann, Britta', 'party': 'B90/Grüne', 'type': 1},\n",
       " {'name': 'Heider, Dr. Matthias', 'party': 'CDU/CSU', 'type': 1},\n",
       " {'name': 'Heiderich, Helmut', 'party': 'CDU/CSU', 'type': 1},\n",
       " {'name': 'Heil, Hubertus', 'party': 'SPD', 'type': 1},\n",
       " {'name': 'Heil, Mechthild', 'party': 'CDU/CSU', 'type': 1},\n",
       " {'name': 'Hein, Dr. Rosemarie', 'party': 'Die Linke', 'type': -1},\n",
       " {'name': 'Heinen-Esser, Ursula', 'party': 'CDU/CSU', 'type': -10},\n",
       " {'name': 'Heinrich, Frank', 'party': 'CDU/CSU', 'type': 1},\n",
       " {'name': 'Hellmich, Wolfgang', 'party': 'SPD', 'type': 1},\n",
       " {'name': 'Hempelmann, Rolf', 'party': 'SPD', 'type': 1},\n",
       " {'name': 'Hendricks, Dr. Barbara', 'party': 'SPD', 'type': 1},\n",
       " {'name': 'Henke, Rudolf', 'party': 'CDU/CSU', 'type': 1},\n",
       " {'name': 'Hennrich, Michael', 'party': 'CDU/CSU', 'type': 1},\n",
       " {'name': 'Herlitzius, Bettina', 'party': 'B90/Grüne', 'type': 1},\n",
       " {'name': 'Herzog, Gustav', 'party': 'SPD', 'type': 1},\n",
       " {'name': 'Heveling, Ansgar', 'party': 'CDU/CSU', 'type': 1},\n",
       " {'name': 'Hiller-Ohm, Gabriele', 'party': 'SPD', 'type': 1},\n",
       " {'name': 'Hinsken, Ernst', 'party': 'CDU/CSU', 'type': 1},\n",
       " {'name': 'Hintze, Peter', 'party': 'CDU/CSU', 'type': 1},\n",
       " {'name': 'Hinz, Petra', 'party': 'SPD', 'type': -1},\n",
       " {'name': 'Hinz, Priska', 'party': 'B90/Grüne', 'type': 1},\n",
       " {'name': 'Hirte, Christian', 'party': 'CDU/CSU', 'type': 1},\n",
       " {'name': 'Hochbaum, Robert', 'party': 'CDU/CSU', 'type': 1},\n",
       " {'name': 'Hoff, Elke', 'party': 'FDP', 'type': 1},\n",
       " {'name': 'Hofmann, Frank', 'party': 'SPD', 'type': 1},\n",
       " {'name': 'Hofreiter, Dr. Anton', 'party': 'B90/Grüne', 'type': 1},\n",
       " {'name': 'Holmeier, Karl', 'party': 'CDU/CSU', 'type': 1},\n",
       " {'name': 'Holzenkamp, Franz-Josef', 'party': 'CDU/CSU', 'type': 1},\n",
       " {'name': 'Homburger, Birgit', 'party': 'FDP', 'type': 1},\n",
       " {'name': 'Hoppe, Thilo', 'party': 'B90/Grüne', 'type': 1},\n",
       " {'name': 'Humme, Christel', 'party': 'SPD', 'type': -10},\n",
       " {'name': 'Hunko, Andrej', 'party': 'Die Linke', 'type': -1},\n",
       " {'name': 'Hänsel, Heike', 'party': 'Die Linke', 'type': -1},\n",
       " {'name': 'Höferlin, Manuel', 'party': 'FDP', 'type': 1},\n",
       " {'name': 'Höger, Inge', 'party': 'Die Linke', 'type': -10},\n",
       " {'name': 'Högl, Dr. Eva', 'party': 'SPD', 'type': 1},\n",
       " {'name': 'Höhn, Bärbel', 'party': 'B90/Grüne', 'type': 1},\n",
       " {'name': 'Höll, Dr. Barbara', 'party': 'Die Linke', 'type': -1},\n",
       " {'name': 'Hönlinger, Ingrid', 'party': 'B90/Grüne', 'type': 1},\n",
       " {'name': 'Hörster, Joachim', 'party': 'CDU/CSU', 'type': 1},\n",
       " {'name': 'Hübinger, Anette', 'party': 'CDU/CSU', 'type': 1},\n",
       " {'name': 'Hüppe, Hubert', 'party': 'CDU/CSU', 'type': 1},\n",
       " {'name': 'Jarzombek, Thomas', 'party': 'CDU/CSU', 'type': 1},\n",
       " {'name': 'Jasper, Dieter', 'party': 'CDU/CSU', 'type': 1},\n",
       " {'name': 'Jelpke, Ulla', 'party': 'Die Linke', 'type': -1},\n",
       " {'name': 'Jochimsen, Dr. Lukrezia', 'party': 'Die Linke', 'type': -1},\n",
       " {'name': 'Jung, Andreas', 'party': 'CDU/CSU', 'type': -10},\n",
       " {'name': 'Jung, Dr. Franz Josef', 'party': 'CDU/CSU', 'type': 1},\n",
       " {'name': 'Juratovic, Josip', 'party': 'SPD', 'type': 1},\n",
       " {'name': 'Jüttner, Dr. Egon', 'party': 'CDU/CSU', 'type': 1},\n",
       " {'name': 'Kaczmarek, Oliver', 'party': 'SPD', 'type': 1},\n",
       " {'name': 'Kahrs, Johannes', 'party': 'SPD', 'type': 1},\n",
       " {'name': 'Kalb, Bartholomäus', 'party': 'CDU/CSU', 'type': 1},\n",
       " {'name': 'Kammer, Hans-Werner', 'party': 'CDU/CSU', 'type': 1},\n",
       " {'name': 'Kamp, Heiner', 'party': 'FDP', 'type': 1},\n",
       " {'name': 'Kampeter, Steffen', 'party': 'CDU/CSU', 'type': 1},\n",
       " {'name': 'Karl, Alois', 'party': 'CDU/CSU', 'type': 1},\n",
       " {'name': 'Kaster, Bernhard', 'party': 'CDU/CSU', 'type': 1},\n",
       " {'name': 'Kastner, Dr. h. c. Susanne', 'party': 'SPD', 'type': 1},\n",
       " {'name': 'Kauch, Michael', 'party': 'FDP', 'type': 1},\n",
       " {'name': 'Kauder, Siegfried', 'party': 'CDU/CSU', 'type': 1},\n",
       " {'name': 'Kauder, Volker', 'party': 'CDU/CSU', 'type': 1},\n",
       " {'name': 'Kaufmann, Dr. Stefan', 'party': 'CDU/CSU', 'type': 1},\n",
       " {'name': 'Kekeritz, Uwe', 'party': 'B90/Grüne', 'type': 1},\n",
       " {'name': 'Kelber, Ulrich', 'party': 'SPD', 'type': 1},\n",
       " {'name': 'Keul, Katja', 'party': 'B90/Grüne', 'type': 1},\n",
       " {'name': 'Kiesewetter, Roderich', 'party': 'CDU/CSU', 'type': 1},\n",
       " {'name': 'Kilic, Memet', 'party': 'B90/Grüne', 'type': 0},\n",
       " {'name': 'Kindler, Sven-Christian', 'party': 'B90/Grüne', 'type': 1},\n",
       " {'name': 'Kipping, Katja', 'party': 'Die Linke', 'type': -1},\n",
       " {'name': 'Klaeden, Eckart von', 'party': 'CDU/CSU', 'type': 1},\n",
       " {'name': 'Klamt, Ewa', 'party': 'CDU/CSU', 'type': 1},\n",
       " {'name': 'Klein, Volkmar', 'party': 'CDU/CSU', 'type': 1},\n",
       " {'name': 'Klein-Schmeink, Maria', 'party': 'B90/Grüne', 'type': 0},\n",
       " {'name': 'Klimke, Jürgen', 'party': 'CDU/CSU', 'type': 1},\n",
       " {'name': 'Klingbeil, Lars', 'party': 'SPD', 'type': 1},\n",
       " {'name': 'Klose, Hans-Ulrich', 'party': 'SPD', 'type': 1},\n",
       " {'name': 'Knoerig, Axel', 'party': 'CDU/CSU', 'type': 1},\n",
       " {'name': 'Knopek, Dr. Lutz', 'party': 'FDP', 'type': 1},\n",
       " {'name': 'Kober, Pascal', 'party': 'FDP', 'type': 1},\n",
       " {'name': 'Koch, Harald', 'party': 'Die Linke', 'type': -1},\n",
       " {'name': 'Koczy, Ute', 'party': 'B90/Grüne', 'type': 1},\n",
       " {'name': 'Koenigs, Tom', 'party': 'B90/Grüne', 'type': 1},\n",
       " {'name': 'Koeppen, Jens', 'party': 'CDU/CSU', 'type': 1},\n",
       " {'name': 'Kofler, Dr. Bärbel', 'party': 'SPD', 'type': -1},\n",
       " {'name': 'Kolb, Dr. Heinrich Leonhard', 'party': 'FDP', 'type': 1},\n",
       " {'name': 'Kolbe, Daniela', 'party': 'SPD', 'type': 1},\n",
       " {'name': 'Kolbe, Manfred', 'party': 'CDU/CSU', 'type': 1},\n",
       " {'name': 'Kopp, Gudrun', 'party': 'FDP', 'type': 1},\n",
       " {'name': 'Koppelin, Dr. h.c. Jürgen', 'party': 'FDP', 'type': 1},\n",
       " {'name': 'Korte, Jan', 'party': 'Die Linke', 'type': -1},\n",
       " {'name': 'Koschorrek, Dr. Rolf', 'party': 'CDU/CSU', 'type': 1},\n",
       " {'name': 'Koschyk, Hartmut', 'party': 'CDU/CSU', 'type': 1},\n",
       " {'name': 'Kossendey, Thomas', 'party': 'CDU/CSU', 'type': 1},\n",
       " {'name': 'Kotting-Uhl, Sylvia', 'party': 'B90/Grüne', 'type': 0},\n",
       " {'name': 'Kramme, Anette', 'party': 'SPD', 'type': -10},\n",
       " {'name': 'Krellmann, Jutta', 'party': 'Die Linke', 'type': -1},\n",
       " {'name': 'Krestel, Holger', 'party': 'FDP', 'type': 1},\n",
       " {'name': 'Kretschmer, Michael', 'party': 'CDU/CSU', 'type': 1},\n",
       " {'name': 'Krichbaum, Gunther', 'party': 'CDU/CSU', 'type': 1},\n",
       " {'name': 'Krings, Dr. Günter', 'party': 'CDU/CSU', 'type': 1},\n",
       " {'name': 'Krischer, Oliver', 'party': 'B90/Grüne', 'type': 1},\n",
       " {'name': 'Krumwiede, Agnes', 'party': 'B90/Grüne', 'type': 1},\n",
       " {'name': 'Kruse, Rüdiger', 'party': 'CDU/CSU', 'type': 1},\n",
       " {'name': 'Krüger-Leißner, Angelika', 'party': 'SPD', 'type': 1},\n",
       " {'name': 'Kudla, Bettina', 'party': 'CDU/CSU', 'type': -10},\n",
       " {'name': 'Kues, Dr. Hermann', 'party': 'CDU/CSU', 'type': 1},\n",
       " {'name': 'Kuhn, Fritz', 'party': 'B90/Grüne', 'type': 1},\n",
       " {'name': 'Kumpf, Ute', 'party': 'SPD', 'type': 1},\n",
       " {'name': 'Kunert, Katrin', 'party': 'Die Linke', 'type': -1},\n",
       " {'name': 'Kurth, Markus', 'party': 'B90/Grüne', 'type': 1},\n",
       " {'name': 'Kurth, Patrick', 'party': 'FDP', 'type': 1},\n",
       " {'name': 'Kurth, Undine', 'party': 'B90/Grüne', 'type': 1},\n",
       " {'name': 'Körber, Sebastian', 'party': 'FDP', 'type': 1},\n",
       " {'name': 'Körper, Fritz Rudolf', 'party': 'SPD', 'type': -10},\n",
       " {'name': 'Kühn, Stephan', 'party': 'B90/Grüne', 'type': 1},\n",
       " {'name': 'Künast, Renate', 'party': 'B90/Grüne', 'type': 1},\n",
       " {'name': 'Lach, Günter', 'party': 'CDU/CSU', 'type': 1},\n",
       " {'name': 'Lambrecht, Christine', 'party': 'SPD', 'type': -1},\n",
       " {'name': 'Lamers, Dr. Dr. h.c. Karl A.', 'party': 'CDU/CSU', 'type': 1},\n",
       " {'name': 'Lammert, Prof. Dr. Norbert', 'party': 'CDU/CSU', 'type': 1},\n",
       " {'name': 'Landgraf, Katharina', 'party': 'CDU/CSU', 'type': 1},\n",
       " {'name': 'Lanfermann, Heinz', 'party': 'FDP', 'type': 1},\n",
       " {'name': 'Lange, Christian', 'party': 'SPD', 'type': 1},\n",
       " {'name': 'Lange, Ulrich', 'party': 'CDU/CSU', 'type': 1},\n",
       " {'name': 'Laurischk, Sibylle', 'party': 'FDP', 'type': 1},\n",
       " {'name': 'Lauterbach, Dr. Karl', 'party': 'SPD', 'type': 1},\n",
       " {'name': 'Lay, Caren', 'party': 'Die Linke', 'type': -1},\n",
       " {'name': 'Lazar, Monika', 'party': 'B90/Grüne', 'type': -1},\n",
       " {'name': 'Lehmer, Dr. Max', 'party': 'CDU/CSU', 'type': 1},\n",
       " {'name': 'Lehrieder, Paul', 'party': 'CDU/CSU', 'type': 1},\n",
       " {'name': 'Leibrecht, Harald', 'party': 'FDP', 'type': 1},\n",
       " {'name': 'Leidig, Sabine', 'party': 'Die Linke', 'type': -1},\n",
       " {'name': 'Lemme, Steffen-Claudio', 'party': 'SPD', 'type': -1},\n",
       " {'name': 'Lenkert, Ralph', 'party': 'Die Linke', 'type': -1},\n",
       " {'name': 'Leutert, Michael', 'party': 'Die Linke', 'type': -1},\n",
       " {'name': 'Leutheusser-Schnarrenberger, Sabine', 'party': 'FDP', 'type': 1},\n",
       " {'name': 'Leyen, Dr. Ursula von der', 'party': 'CDU/CSU', 'type': 1},\n",
       " {'name': 'Liebich, Stefan', 'party': 'Die Linke', 'type': -1},\n",
       " {'name': 'Liebing, Ingbert', 'party': 'CDU/CSU', 'type': 1},\n",
       " {'name': 'Lietz, Matthias', 'party': 'CDU/CSU', 'type': 1},\n",
       " {'name': 'Lindemann, Lars', 'party': 'FDP', 'type': 1},\n",
       " {'name': 'Lindner, Dr. Martin', 'party': 'FDP', 'type': 1},\n",
       " {'name': 'Lindner, Dr. Tobias', 'party': 'B90/Grüne', 'type': 1},\n",
       " {'name': 'Link, Michael', 'party': 'FDP', 'type': 1},\n",
       " {'name': 'Linnemann, Dr. Carsten', 'party': 'CDU/CSU', 'type': 1},\n",
       " {'name': 'Lips, Patricia', 'party': 'CDU/CSU', 'type': 1},\n",
       " {'name': 'Lischka, Burkhard', 'party': 'SPD', 'type': 1},\n",
       " {'name': 'Lotter, Dr. Erwin', 'party': 'FDP', 'type': 1},\n",
       " {'name': 'Luczak, Dr. Jan-Marco', 'party': 'CDU/CSU', 'type': 1},\n",
       " {'name': 'Ludwig, Daniela', 'party': 'CDU/CSU', 'type': 1},\n",
       " {'name': 'Luksic, Oliver', 'party': 'FDP', 'type': 1},\n",
       " {'name': 'Luther, Dr. Michael', 'party': 'CDU/CSU', 'type': -10},\n",
       " {'name': 'Lutze, Thomas', 'party': 'Die Linke', 'type': -1},\n",
       " {'name': 'Lämmel, Andreas G.', 'party': 'CDU/CSU', 'type': 1},\n",
       " {'name': 'Lösekrug-Möller, Gabriele', 'party': 'SPD', 'type': -10},\n",
       " {'name': 'Lötzer, Ulla', 'party': 'Die Linke', 'type': -1},\n",
       " {'name': 'Lötzsch, Dr. Gesine', 'party': 'Die Linke', 'type': -1},\n",
       " {'name': 'Lühmann, Kirsten', 'party': 'SPD', 'type': 1},\n",
       " {'name': 'Maag, Karin', 'party': 'CDU/CSU', 'type': 1},\n",
       " {'name': 'Maisch, Nicole', 'party': 'B90/Grüne', 'type': 1},\n",
       " {'name': 'Maizière, Dr. Thomas de', 'party': 'CDU/CSU', 'type': 1},\n",
       " {'name': 'Marks, Caren', 'party': 'SPD', 'type': 1},\n",
       " {'name': 'Marwitz, Hans-Georg von der', 'party': 'CDU/CSU', 'type': 1},\n",
       " {'name': 'Mast, Katja', 'party': 'SPD', 'type': 1},\n",
       " {'name': 'Mattfeldt, Andreas', 'party': 'CDU/CSU', 'type': 1},\n",
       " {'name': 'Mattheis, Hilde', 'party': 'SPD', 'type': -1},\n",
       " {'name': 'Maurer, Ulrich', 'party': 'Die Linke', 'type': -1},\n",
       " {'name': 'Mayer, Stephan', 'party': 'CDU/CSU', 'type': 1},\n",
       " {'name': 'Meierhofer, Horst', 'party': 'FDP', 'type': 1},\n",
       " {'name': 'Meinhardt, Patrick', 'party': 'FDP', 'type': 1},\n",
       " {'name': 'Meister, Dr. Michael', 'party': 'CDU/CSU', 'type': 1},\n",
       " {'name': 'Menzner, Dorothée', 'party': 'Die Linke', 'type': -1},\n",
       " {'name': 'Merkel, Dr. Angela', 'party': 'CDU/CSU', 'type': -10},\n",
       " {'name': 'Merkel, Petra', 'party': 'SPD', 'type': 1},\n",
       " {'name': 'Meßmer, Ullrich', 'party': 'SPD', 'type': 1},\n",
       " {'name': 'Michalk, Maria', 'party': 'CDU/CSU', 'type': 1},\n",
       " {'name': 'Michelbach, Dr. h. c. Hans', 'party': 'CDU/CSU', 'type': 1},\n",
       " {'name': 'Middelberg, Dr. Mathias', 'party': 'CDU/CSU', 'type': 1},\n",
       " {'name': 'Miersch, Dr. Matthias', 'party': 'SPD', 'type': 1},\n",
       " {'name': 'Mißfelder, Philipp', 'party': 'CDU/CSU', 'type': 1},\n",
       " {'name': 'Molitor, Gabriele', 'party': 'FDP', 'type': 1},\n",
       " {'name': 'Monstadt, Dietrich', 'party': 'CDU/CSU', 'type': 1},\n",
       " {'name': 'Montag, Jerzy', 'party': 'B90/Grüne', 'type': 1},\n",
       " {'name': 'Mortler, Marlene', 'party': 'CDU/CSU', 'type': -10},\n",
       " {'name': 'Movassat, Niema', 'party': 'Die Linke', 'type': -1},\n",
       " {'name': 'Murmann, Dr. Philipp', 'party': 'CDU/CSU', 'type': 1},\n",
       " {'name': 'Möhring, Cornelia', 'party': 'Die Linke', 'type': -1},\n",
       " {'name': 'Möller, Kornelia', 'party': 'Die Linke', 'type': -1},\n",
       " {'name': 'Mücke, Jan', 'party': 'FDP', 'type': 1},\n",
       " {'name': 'Müller, Dr. Gerd', 'party': 'CDU/CSU', 'type': 1},\n",
       " {'name': 'Müller, Kerstin', 'party': 'B90/Grüne', 'type': 1},\n",
       " {'name': 'Müller, Petra', 'party': 'FDP', 'type': 1},\n",
       " {'name': 'Müller, Stefan', 'party': 'CDU/CSU', 'type': 1},\n",
       " {'name': 'Müller-Gemmeke, Beate', 'party': 'B90/Grüne', 'type': 1},\n",
       " {'name': 'Müller-Sönksen, Burkhardt', 'party': 'FDP', 'type': 1},\n",
       " {'name': 'Müntefering, Franz', 'party': 'SPD', 'type': -10},\n",
       " {'name': 'Mützenich, Dr. Rolf', 'party': 'SPD', 'type': 1},\n",
       " {'name': 'Nahles, Andrea', 'party': 'SPD', 'type': -10},\n",
       " {'name': 'Neumann, Bernd', 'party': 'CDU/CSU', 'type': 1},\n",
       " {'name': 'Neumann, Dr. Martin', 'party': 'FDP', 'type': 1},\n",
       " {'name': 'Nešković, Wolfgang', 'party': 'fraktionslos', 'type': -1},\n",
       " {'name': 'Niebel, Dirk', 'party': 'FDP', 'type': 1},\n",
       " {'name': 'Nietan, Dietmar', 'party': 'SPD', 'type': 1},\n",
       " {'name': 'Nink, Manfred', 'party': 'SPD', 'type': -10},\n",
       " {'name': 'Noll, Michaela', 'party': 'CDU/CSU', 'type': 1},\n",
       " {'name': 'Nord, Thomas', 'party': 'Die Linke', 'type': -1},\n",
       " {'name': 'Notz, Dr. Konstantin von', 'party': 'B90/Grüne', 'type': 1},\n",
       " {'name': 'Nouripour, Omid', 'party': 'B90/Grüne', 'type': 1},\n",
       " {'name': 'Nüßlein, Dr. Georg', 'party': 'CDU/CSU', 'type': 1},\n",
       " {'name': 'Obermeier, Franz', 'party': 'CDU/CSU', 'type': 1},\n",
       " {'name': 'Oppermann, Thomas', 'party': 'SPD', 'type': 1},\n",
       " {'name': 'Ortel, Holger', 'party': 'SPD', 'type': -10},\n",
       " {'name': 'Ostendorff, Friedrich', 'party': 'B90/Grüne', 'type': 1},\n",
       " {'name': 'Oswald, Eduard', 'party': 'CDU/CSU', 'type': 1},\n",
       " {'name': 'Ott, Dr. Hermann E.', 'party': 'B90/Grüne', 'type': 1},\n",
       " {'name': 'Otte, Henning', 'party': 'CDU/CSU', 'type': 1},\n",
       " {'name': 'Otto, Hans-Joachim', 'party': 'FDP', 'type': 1},\n",
       " {'name': 'Pau, Petra', 'party': 'Die Linke', 'type': -1},\n",
       " {'name': 'Paul, Dr. Michael', 'party': 'CDU/CSU', 'type': 1},\n",
       " {'name': 'Paula, Heinz', 'party': 'SPD', 'type': 1},\n",
       " {'name': 'Paus, Lisa', 'party': 'B90/Grüne', 'type': 1},\n",
       " {'name': 'Pawelski, Rita', 'party': 'CDU/CSU', 'type': 1},\n",
       " {'name': 'Petermann, Jens', 'party': 'Die Linke', 'type': -1},\n",
       " {'name': 'Petzold, Ulrich', 'party': 'CDU/CSU', 'type': 1},\n",
       " {'name': 'Pfeiffer, Dr. Joachim', 'party': 'CDU/CSU', 'type': 1},\n",
       " {'name': 'Pfeiffer, Sibylle', 'party': 'CDU/CSU', 'type': 1},\n",
       " {'name': 'Pflug, Johannes', 'party': 'SPD', 'type': 1},\n",
       " {'name': 'Philipp, Beatrix', 'party': 'CDU/CSU', 'type': 1},\n",
       " {'name': 'Pieper, Cornelia', 'party': 'FDP', 'type': 1},\n",
       " {'name': 'Piltz, Gisela', 'party': 'FDP', 'type': 1},\n",
       " {'name': 'Pitterle, Richard', 'party': 'Die Linke', 'type': -1},\n",
       " {'name': 'Ploetz, Yvonne', 'party': 'Die Linke', 'type': -1},\n",
       " {'name': 'Pofalla, Ronald', 'party': 'CDU/CSU', 'type': 1},\n",
       " {'name': 'Poland, Christoph', 'party': 'CDU/CSU', 'type': 1},\n",
       " {'name': 'Polenz, Ruprecht', 'party': 'CDU/CSU', 'type': 1},\n",
       " {'name': 'Polheim, Jörg von', 'party': 'FDP', 'type': 1},\n",
       " {'name': 'Pols, Eckhard', 'party': 'CDU/CSU', 'type': 1},\n",
       " {'name': 'Pothmer, Brigitte', 'party': 'B90/Grüne', 'type': 1},\n",
       " {'name': 'Poß, Joachim', 'party': 'SPD', 'type': -10},\n",
       " {'name': 'Priesmeier, Dr. Wilhelm', 'party': 'SPD', 'type': 1},\n",
       " {'name': 'Pronold, Florian', 'party': 'SPD', 'type': 1},\n",
       " {'name': 'Raabe, Dr. Sascha', 'party': 'SPD', 'type': 1},\n",
       " {'name': 'Rachel, Thomas', 'party': 'CDU/CSU', 'type': 1},\n",
       " {'name': 'Ramsauer, Dr. Peter', 'party': 'CDU/CSU', 'type': -10},\n",
       " {'name': 'Ratjen-Damerau, Dr. Christiane', 'party': 'FDP', 'type': -10},\n",
       " {'name': 'Rawert, Mechthild', 'party': 'SPD', 'type': 1},\n",
       " {'name': 'Rebmann, Stefan', 'party': 'SPD', 'type': 1},\n",
       " {'name': 'Rehberg, Eckhardt', 'party': 'CDU/CSU', 'type': 1},\n",
       " {'name': 'Reiche, Katherina', 'party': 'CDU/CSU', 'type': -10},\n",
       " {'name': 'Reichenbach, Gerold', 'party': 'SPD', 'type': 1},\n",
       " {'name': 'Reimann, Dr. Carola', 'party': 'SPD', 'type': 1},\n",
       " {'name': 'Reinemund, Dr. Birgit', 'party': 'FDP', 'type': 1},\n",
       " {'name': 'Remmers, Ingrid Lieselotte', 'party': 'Die Linke', 'type': -1},\n",
       " {'name': 'Riebsamen, Lothar', 'party': 'CDU/CSU', 'type': 1},\n",
       " {'name': 'Rief, Josef', 'party': 'CDU/CSU', 'type': -10},\n",
       " {'name': 'Riegert, Klaus', 'party': 'CDU/CSU', 'type': 1},\n",
       " {'name': 'Riesenhuber, Dr. Heinz', 'party': 'CDU/CSU', 'type': 1},\n",
       " {'name': 'Rix, Sönke', 'party': 'SPD', 'type': 1},\n",
       " {'name': 'Rossmann, Dr. Ernst Dieter', 'party': 'SPD', 'type': 1},\n",
       " {'name': 'Roth, Claudia', 'party': 'B90/Grüne', 'type': 1},\n",
       " {'name': 'Roth, Karin', 'party': 'SPD', 'type': 1},\n",
       " {'name': 'Roth, Michael', 'party': 'SPD', 'type': 1},\n",
       " {'name': 'Ruck, Dr. Christian', 'party': 'CDU/CSU', 'type': 1},\n",
       " {'name': 'Ruppert, Dr. Stefan', 'party': 'FDP', 'type': 1},\n",
       " {'name': 'Rupprecht, Albert', 'party': 'CDU/CSU', 'type': 1},\n",
       " {'name': 'Rupprecht, Marlene', 'party': 'SPD', 'type': 0},\n",
       " {'name': 'Röhlinger, Dr. Peter', 'party': 'FDP', 'type': 1},\n",
       " {'name': 'Röring, Johannes', 'party': 'CDU/CSU', 'type': 1},\n",
       " {'name': 'Röspel, René', 'party': 'SPD', 'type': 1},\n",
       " {'name': 'Röttgen, Dr. Norbert', 'party': 'CDU/CSU', 'type': 1},\n",
       " {'name': 'Rößner, Tabea', 'party': 'B90/Grüne', 'type': 1},\n",
       " {'name': 'Rüddel, Erwin', 'party': 'CDU/CSU', 'type': 1},\n",
       " {'name': 'Sager, Krista', 'party': 'B90/Grüne', 'type': 1},\n",
       " {'name': 'Sarrazin, Manuel', 'party': 'B90/Grüne', 'type': 1},\n",
       " {'name': 'Sawade, Annette', 'party': 'SPD', 'type': 1},\n",
       " {'name': 'Schaaf, Anton', 'party': 'SPD', 'type': 1},\n",
       " {'name': 'Scharfenberg, Elisabeth', 'party': 'B90/Grüne', 'type': 1},\n",
       " {'name': 'Schavan, Prof. Dr. Annette', 'party': 'CDU/CSU', 'type': 1},\n",
       " {'name': 'Scheelen, Bernd', 'party': 'SPD', 'type': 1},\n",
       " {'name': 'Scheuer, Dr. Andreas', 'party': 'CDU/CSU', 'type': 1},\n",
       " {'name': 'Schick, Dr. Gerhard', 'party': 'B90/Grüne', 'type': 1},\n",
       " {'name': 'Schieder, Marianne', 'party': 'SPD', 'type': 1},\n",
       " {'name': 'Schieder, Werner', 'party': 'SPD', 'type': 1},\n",
       " {'name': 'Schiewerling, Karl', 'party': 'CDU/CSU', 'type': 1},\n",
       " {'name': 'Schindler, Norbert', 'party': 'CDU/CSU', 'type': -10},\n",
       " {'name': 'Schipanski, Tankred', 'party': 'CDU/CSU', 'type': 1},\n",
       " {'name': 'Schirmbeck, Georg', 'party': 'CDU/CSU', 'type': 1},\n",
       " {'name': 'Schlecht, Michael', 'party': 'Die Linke', 'type': -10},\n",
       " {'name': 'Schmidt, Christian', 'party': 'CDU/CSU', 'type': 1},\n",
       " {'name': 'Schmidt, Dr. Frithjof', 'party': 'B90/Grüne', 'type': -10},\n",
       " {'name': 'Schmidt, Silvia', 'party': 'SPD', 'type': -10},\n",
       " {'name': 'Schmidt, Ulla', 'party': 'SPD', 'type': 1},\n",
       " {'name': 'Schneider, Carsten', 'party': 'SPD', 'type': 1},\n",
       " {'name': 'Schneider, Ulrich', 'party': 'B90/Grüne', 'type': -10},\n",
       " {'name': 'Schnieder, Patrick', 'party': 'CDU/CSU', 'type': 1},\n",
       " {'name': 'Schnurr, Christoph', 'party': 'FDP', 'type': 1},\n",
       " {'name': 'Schockenhoff, Dr. Andreas', 'party': 'CDU/CSU', 'type': 1},\n",
       " {'name': 'Schreiner, Ottmar', 'party': 'SPD', 'type': 1},\n",
       " {'name': 'Schröder, Dr. Kristina', 'party': 'CDU/CSU', 'type': 1},\n",
       " {'name': 'Schröder, Dr. Ole', 'party': 'CDU/CSU', 'type': -10},\n",
       " {'name': 'Schulte-Drüggelte, Bernhard', 'party': 'CDU/CSU', 'type': 1},\n",
       " {'name': 'Schulz, Jimmy', 'party': 'FDP', 'type': 1},\n",
       " {'name': 'Schulz, Swen', 'party': 'SPD', 'type': -1},\n",
       " {'name': 'Schummer, Uwe', 'party': 'CDU/CSU', 'type': 1},\n",
       " {'name': 'Schurer, Ewald', 'party': 'SPD', 'type': 0},\n",
       " {'name': 'Schuster, Armin', 'party': 'CDU/CSU', 'type': 1},\n",
       " {'name': 'Schuster, Marina', 'party': 'FDP', 'type': 1},\n",
       " {'name': 'Schwabe, Frank', 'party': 'SPD', 'type': 1},\n",
       " {'name': 'Schwanholz, Dr. Martin', 'party': 'SPD', 'type': 1},\n",
       " {'name': 'Schwanitz, Rolf', 'party': 'SPD', 'type': 1},\n",
       " {'name': 'Schwartze, Stefan', 'party': 'SPD', 'type': 1},\n",
       " {'name': 'Schwarzelühr-Sutter, Rita', 'party': 'SPD', 'type': 1},\n",
       " {'name': 'Schweickert, Dr. Erik', 'party': 'FDP', 'type': 1},\n",
       " {'name': 'Schäfer, Anita', 'party': 'CDU/CSU', 'type': 1},\n",
       " {'name': 'Schäfer, Axel', 'party': 'SPD', 'type': 1},\n",
       " {'name': 'Schäfer, Paul', 'party': 'Die Linke', 'type': -1},\n",
       " {'name': 'Schäffler, Frank', 'party': 'FDP', 'type': 1},\n",
       " {'name': 'Schäuble, Dr. Wolfgang', 'party': 'CDU/CSU', 'type': 1},\n",
       " {'name': 'Schön, Nadine', 'party': 'CDU/CSU', 'type': 1},\n",
       " {'name': 'Seif, Detlef', 'party': 'CDU/CSU', 'type': 1},\n",
       " {'name': 'Seifert, Dr. Ilja', 'party': 'Die Linke', 'type': -10},\n",
       " {'name': 'Selle, Johannes', 'party': 'CDU/CSU', 'type': 1},\n",
       " {'name': 'Sendker, Reinhold', 'party': 'CDU/CSU', 'type': 1},\n",
       " {'name': 'Senger-Schäfer, Kathrin', 'party': 'Die Linke', 'type': -1},\n",
       " {'name': 'Sensburg, Dr. Patrick', 'party': 'CDU/CSU', 'type': 1},\n",
       " {'name': 'Sharma, Raju', 'party': 'Die Linke', 'type': -1},\n",
       " {'name': 'Siebert, Bernd', 'party': 'CDU/CSU', 'type': 1},\n",
       " {'name': 'Sieling, Dr. Carsten', 'party': 'SPD', 'type': 1},\n",
       " {'name': 'Silberhorn, Thomas', 'party': 'CDU/CSU', 'type': 1},\n",
       " {'name': 'Simmling, Werner', 'party': 'FDP', 'type': 1},\n",
       " {'name': 'Singhammer, Johannes', 'party': 'CDU/CSU', 'type': 1},\n",
       " {'name': 'Sitte, Dr. Petra', 'party': 'Die Linke', 'type': -1},\n",
       " {'name': 'Skudelny, Judith', 'party': 'FDP', 'type': -10},\n",
       " {'name': 'Solms, Dr. Hermann Otto', 'party': 'FDP', 'type': -10},\n",
       " {'name': 'Spahn, Jens', 'party': 'CDU/CSU', 'type': 1},\n",
       " {'name': 'Spatz, Joachim', 'party': 'FDP', 'type': 1},\n",
       " {'name': 'Stadler, Dr. Max', 'party': 'FDP', 'type': 1},\n",
       " {'name': 'Staffeldt, Torsten', 'party': 'FDP', 'type': 1},\n",
       " {'name': 'Stauche, Carola', 'party': 'CDU/CSU', 'type': 1},\n",
       " {'name': 'Steffel, Dr. Frank', 'party': 'CDU/CSU', 'type': 1},\n",
       " {'name': 'Steffen, Sonja Amalie', 'party': 'SPD', 'type': 1},\n",
       " {'name': 'Steinbach, Erika', 'party': 'CDU/CSU', 'type': 1},\n",
       " {'name': 'Steinbrück, Peer', 'party': 'SPD', 'type': 1},\n",
       " {'name': 'Steiner, Dorothea', 'party': 'B90/Grüne', 'type': 0},\n",
       " {'name': 'Steinke, Kersten', 'party': 'Die Linke', 'type': -1},\n",
       " {'name': 'Steinmeier, Dr. Frank-Walter', 'party': 'SPD', 'type': -10},\n",
       " {'name': 'Stetten, Christian Freiherr von', 'party': 'CDU/CSU', 'type': 1},\n",
       " {'name': 'Stier, Dieter', 'party': 'CDU/CSU', 'type': 1},\n",
       " {'name': 'Stinner, Dr. Rainer', 'party': 'FDP', 'type': 1},\n",
       " {'name': 'Storjohann, Gero', 'party': 'CDU/CSU', 'type': 1},\n",
       " {'name': 'Stracke, Stephan', 'party': 'CDU/CSU', 'type': 1},\n",
       " {'name': 'Straubinger, Max', 'party': 'CDU/CSU', 'type': 1},\n",
       " {'name': 'Strengmann-Kuhn, Dr. Wolfgang', 'party': 'B90/Grüne', 'type': 0},\n",
       " {'name': 'Strenz, Karin', 'party': 'CDU/CSU', 'type': 1},\n",
       " {'name': 'Strobl, Thomas', 'party': 'CDU/CSU', 'type': 1},\n",
       " {'name': 'Strothmann, Lena', 'party': 'CDU/CSU', 'type': 1},\n",
       " {'name': 'Strässer, Christoph', 'party': 'SPD', 'type': 1},\n",
       " {'name': 'Ströbele, Hans-Christian', 'party': 'B90/Grüne', 'type': -1},\n",
       " {'name': 'Stüber, Sabine Ursula', 'party': 'Die Linke', 'type': -1},\n",
       " {'name': 'Stübgen, Michael', 'party': 'CDU/CSU', 'type': 1},\n",
       " {'name': 'Sänger, Björn', 'party': 'FDP', 'type': 1},\n",
       " {'name': 'Süßmair, Alexander', 'party': 'Die Linke', 'type': -1},\n",
       " {'name': 'Tack, Kerstin', 'party': 'SPD', 'type': 1},\n",
       " {'name': 'Tackmann, Dr. Kirsten', 'party': 'Die Linke', 'type': -1},\n",
       " {'name': 'Tauber, Dr. Peter', 'party': 'CDU/CSU', 'type': 1},\n",
       " {'name': 'Tempel, Frank', 'party': 'Die Linke', 'type': -1},\n",
       " {'name': 'Terpe, Dr. Harald', 'party': 'B90/Grüne', 'type': -10},\n",
       " {'name': 'Thierse, Dr. h. c. Wolfgang', 'party': 'SPD', 'type': 1},\n",
       " {'name': 'Thomae, Stephan', 'party': 'FDP', 'type': 1},\n",
       " {'name': 'Thönnes, Franz', 'party': 'SPD', 'type': 1},\n",
       " {'name': 'Tiefensee, Wolfgang', 'party': 'SPD', 'type': 1},\n",
       " {'name': 'Tillmann, Antje', 'party': 'CDU/CSU', 'type': 1},\n",
       " {'name': 'Todtenhausen, Manfred', 'party': 'FDP', 'type': 1},\n",
       " {'name': 'Toncar, Dr. Florian', 'party': 'FDP', 'type': 1},\n",
       " {'name': 'Tressel, Markus', 'party': 'B90/Grüne', 'type': 1},\n",
       " {'name': 'Trittin, Jürgen', 'party': 'B90/Grüne', 'type': 1},\n",
       " {'name': 'Troost, Dr. Axel', 'party': 'Die Linke', 'type': -1},\n",
       " {'name': 'Tören, Serkan', 'party': 'FDP', 'type': 1},\n",
       " {'name': 'Uhl, Dr. Hans-Peter', 'party': 'CDU/CSU', 'type': 1},\n",
       " {'name': 'Ulrich, Alexander', 'party': 'Die Linke', 'type': -1},\n",
       " {'name': 'Vaatz, Arnold', 'party': 'CDU/CSU', 'type': 1},\n",
       " {'name': 'Veit, Rüdiger', 'party': 'SPD', 'type': 1},\n",
       " {'name': 'Vogel, Johannes', 'party': 'FDP', 'type': 1},\n",
       " {'name': 'Vogel, Volkmar', 'party': 'CDU/CSU', 'type': 1},\n",
       " {'name': 'Vogelsang, Stefanie', 'party': 'CDU/CSU', 'type': 1},\n",
       " {'name': 'Vogler, Kathrin', 'party': 'Die Linke', 'type': -1},\n",
       " {'name': 'Vogt, Ute', 'party': 'SPD', 'type': 1},\n",
       " {'name': 'Volk, Dr. Daniel', 'party': 'FDP', 'type': 1},\n",
       " {'name': 'Volkmer, Dr. Marlies', 'party': 'SPD', 'type': -1},\n",
       " {'name': 'Voß, Johanna', 'party': 'Die Linke', 'type': -1},\n",
       " {'name': 'Voßhoff, Andrea Astrid', 'party': 'CDU/CSU', 'type': 1},\n",
       " {'name': 'Wadephul, Dr. Johann', 'party': 'CDU/CSU', 'type': -10},\n",
       " {'name': 'Wagenknecht, Sahra', 'party': 'Die Linke', 'type': -10},\n",
       " {'name': 'Wagner, Arfst', 'party': 'B90/Grüne', 'type': -10},\n",
       " {'name': 'Wagner, Daniela', 'party': 'B90/Grüne', 'type': 1},\n",
       " {'name': 'Walter-Rosenheimer, Beate', 'party': 'B90/Grüne', 'type': 1},\n",
       " {'name': 'Wanderwitz, Marco', 'party': 'CDU/CSU', 'type': 1},\n",
       " {'name': 'Wawzyniak, Halina', 'party': 'Die Linke', 'type': -1},\n",
       " {'name': 'Wegner, Kai', 'party': 'CDU/CSU', 'type': 1},\n",
       " {'name': 'Weinberg, Harald', 'party': 'Die Linke', 'type': -10},\n",
       " {'name': 'Weinberg, Marcus', 'party': 'CDU/CSU', 'type': -10},\n",
       " {'name': 'Weiss, Sabine', 'party': 'CDU/CSU', 'type': 1},\n",
       " {'name': 'Weiß, Peter', 'party': 'CDU/CSU', 'type': 1},\n",
       " {'name': 'Wellenreuther, Ingo', 'party': 'CDU/CSU', 'type': -10},\n",
       " {'name': 'Wellmann, Karl-Georg', 'party': 'CDU/CSU', 'type': 1},\n",
       " {'name': 'Werner, Katrin', 'party': 'Die Linke', 'type': -10},\n",
       " {'name': 'Westerwelle, Dr. Guido', 'party': 'FDP', 'type': 1},\n",
       " {'name': 'Wichtel, Heinz Peter', 'party': 'CDU/CSU', 'type': 1},\n",
       " {'name': 'Wicklein, Andrea', 'party': 'SPD', 'type': 1},\n",
       " {'name': 'Widmann-Mauz, Annette', 'party': 'CDU/CSU', 'type': 1},\n",
       " {'name': 'Wieczorek-Zeul, Heidemarie', 'party': 'SPD', 'type': 1},\n",
       " {'name': 'Wiefelspütz, Dr. Dieter', 'party': 'SPD', 'type': 1},\n",
       " {'name': 'Wieland, Wolfgang', 'party': 'B90/Grüne', 'type': 1},\n",
       " {'name': 'Willsch, Klaus-Peter', 'party': 'CDU/CSU', 'type': 1},\n",
       " {'name': 'Wilms, Dr. Valerie', 'party': 'B90/Grüne', 'type': 1},\n",
       " {'name': 'Winkelmeier-Becker, Elisabeth', 'party': 'CDU/CSU', 'type': 1},\n",
       " {'name': 'Winkler, Josef Philip', 'party': 'B90/Grüne', 'type': 1},\n",
       " {'name': 'Winterstein, Dr. Claudia', 'party': 'FDP', 'type': 1},\n",
       " {'name': 'Wissing, Dr. Volker', 'party': 'FDP', 'type': 1},\n",
       " {'name': 'Wolff, Hartfrid', 'party': 'FDP', 'type': 1},\n",
       " {'name': 'Wolff, Waltraud', 'party': 'SPD', 'type': -1},\n",
       " {'name': 'Wunderlich, Jörn', 'party': 'Die Linke', 'type': -1},\n",
       " {'name': 'Wöhrl, Dagmar G.', 'party': 'CDU/CSU', 'type': -10},\n",
       " {'name': 'Zapf, Uta', 'party': 'SPD', 'type': -10},\n",
       " {'name': 'Ziegler, Dagmar', 'party': 'SPD', 'type': 1},\n",
       " {'name': 'Zimmer, Dr. Matthias', 'party': 'CDU/CSU', 'type': 1},\n",
       " {'name': 'Zimmermann, Sabine', 'party': 'Die Linke', 'type': -1},\n",
       " {'name': 'Zylajew, Willi', 'party': 'CDU/CSU', 'type': 1},\n",
       " {'name': 'Zypries, Brigitte', 'party': 'SPD', 'type': 1},\n",
       " {'name': 'Zöller, Wolfgang', 'party': 'CDU/CSU', 'type': 1},\n",
       " {'name': 'Zöllmer, Manfred Helmut', 'party': 'SPD', 'type': 1},\n",
       " {'name': 'Özoğuz, Aydan', 'party': 'SPD', 'type': -10}]"
      ]
     },
     "execution_count": 11,
     "metadata": {},
     "output_type": "execute_result"
    }
   ],
   "source": [
    "sorted(votings_data, key=lambda k: k[\"name\"])"
   ]
  },
  {
   "cell_type": "markdown",
   "metadata": {},
   "source": [
    "#Parse HTML for voting meta data"
   ]
  },
  {
   "cell_type": "code",
   "execution_count": 12,
   "metadata": {
    "collapsed": false
   },
   "outputs": [],
   "source": [
    "meta = soup.find(\"div\", class_=\"namentlichText\")"
   ]
  },
  {
   "cell_type": "code",
   "execution_count": 13,
   "metadata": {
    "collapsed": false
   },
   "outputs": [
    {
     "data": {
      "text/plain": [
       "<div class=\"namentlichText\">\n",
       "<h2><span class=\"dachzeile\">14.12.2012</span><br/>Bundeswehreinsatz in der Türkei</h2>\n",
       "<p>Beschlussempfehlung des Auswärtigen Ausschusses zum Antrag der Bundesregierung über die Entsendung bewaffneter deutscher Streitkräfte zur Verstärkung der integrierten Luftverteidigung der NATO auf Ersuchen der Türkei (Drucksachen <a class=\"linkGeneric\" href=\"http://dip.bundestag.de/btd/17/117/1711783.pdf\" target=\"_blank\" title=\"Die PDF-Datei Drucksache 17/11783 öffnet sich in einem neuen Fenster\">17/11783</a>, <a class=\"linkGeneric\" href=\"http://dip.bundestag.de/btd/17/118/1711892.pdf\" target=\"_blank\" title=\"Die PDF-Datei Drucksache 17/11892 öffnet sich in einem neuen Fenster\">17/11892</a>)</p>\n",
       "</div>"
      ]
     },
     "execution_count": 13,
     "metadata": {},
     "output_type": "execute_result"
    }
   ],
   "source": [
    "meta"
   ]
  },
  {
   "cell_type": "code",
   "execution_count": 14,
   "metadata": {
    "collapsed": false
   },
   "outputs": [],
   "source": [
    "gs = re.search(\"([0-9.]{10})(.+)\",meta.find(\"h2\").text)"
   ]
  },
  {
   "cell_type": "code",
   "execution_count": 15,
   "metadata": {
    "collapsed": false
   },
   "outputs": [],
   "source": [
    "date = gs.group(1)\n",
    "dps = re.search(\"([0-9]{2})\\.([0-9]{2})\\.([0-9]{4})\", date)\n",
    "date = dps.group(3)+\"-\"+dps.group(2)+\"-\"+dps.group(1)\n",
    "title = gs.group(2)\n",
    "sub = re.sub(\"\\r\\n\", \". \", meta.p.text)"
   ]
  },
  {
   "cell_type": "code",
   "execution_count": 16,
   "metadata": {
    "collapsed": false
   },
   "outputs": [
    {
     "data": {
      "text/plain": [
       "('2012-12-14',\n",
       " 'Bundeswehreinsatz in der Türkei',\n",
       " 'Beschlussempfehlung des Auswärtigen Ausschusses zum Antrag der Bundesregierung über die Entsendung bewaffneter deutscher Streitkräfte zur Verstärkung der integrierten Luftverteidigung der NATO auf Ersuchen der Türkei (Drucksachen 17/11783, 17/11892)')"
      ]
     },
     "execution_count": 16,
     "metadata": {},
     "output_type": "execute_result"
    }
   ],
   "source": [
    "date,title,sub"
   ]
  },
  {
   "cell_type": "markdown",
   "metadata": {},
   "source": [
    "#Connect to Postgres"
   ]
  },
  {
   "cell_type": "code",
   "execution_count": 17,
   "metadata": {
    "collapsed": false
   },
   "outputs": [],
   "source": [
    "import psycopg2"
   ]
  },
  {
   "cell_type": "code",
   "execution_count": 18,
   "metadata": {
    "collapsed": false
   },
   "outputs": [],
   "source": [
    "db = psycopg2.connect(\"\"\"\n",
    "    dbname='data'\n",
    "    user='postgres'\n",
    "    host='localhost'\n",
    "    password='postgres'\n",
    "\"\"\")"
   ]
  },
  {
   "cell_type": "code",
   "execution_count": 157,
   "metadata": {
    "collapsed": false
   },
   "outputs": [],
   "source": [
    "cur = db.cursor()"
   ]
  },
  {
   "cell_type": "code",
   "execution_count": 162,
   "metadata": {
    "collapsed": false
   },
   "outputs": [],
   "source": [
    "cur.execute(\"select * from bundestag_votings_meta\")\n",
    "db.commit()"
   ]
  },
  {
   "cell_type": "code",
   "execution_count": 168,
   "metadata": {
    "collapsed": false
   },
   "outputs": [
    {
     "ename": "ProgrammingError",
     "evalue": "no results to fetch",
     "output_type": "error",
     "traceback": [
      "\u001b[1;31m---------------------------------------------------------------------------\u001b[0m",
      "\u001b[1;31mProgrammingError\u001b[0m                          Traceback (most recent call last)",
      "\u001b[1;32m<ipython-input-168-e0367447aa52>\u001b[0m in \u001b[0;36m<module>\u001b[1;34m()\u001b[0m\n\u001b[1;32m----> 1\u001b[1;33m \u001b[0mcur\u001b[0m\u001b[1;33m.\u001b[0m\u001b[0mfetchall\u001b[0m\u001b[1;33m(\u001b[0m\u001b[1;33m)\u001b[0m\u001b[1;33m\u001b[0m\u001b[0m\n\u001b[0m\u001b[0;32m      2\u001b[0m \u001b[0mdb\u001b[0m\u001b[1;33m.\u001b[0m\u001b[0mcommit\u001b[0m\u001b[1;33m(\u001b[0m\u001b[1;33m)\u001b[0m\u001b[1;33m\u001b[0m\u001b[0m\n",
      "\u001b[1;31mProgrammingError\u001b[0m: no results to fetch"
     ]
    }
   ],
   "source": [
    "cur.fetchall()\n",
    "db.commit()"
   ]
  },
  {
   "cell_type": "code",
   "execution_count": 169,
   "metadata": {
    "collapsed": false
   },
   "outputs": [],
   "source": [
    "cur = db.cursor()\n",
    "cur.execute(\"insert into bundestag_votings_individual VALUES('x',1,'y')\")\n",
    "db.commit()"
   ]
  },
  {
   "cell_type": "code",
   "execution_count": 170,
   "metadata": {
    "collapsed": false
   },
   "outputs": [],
   "source": [
    "cur = db.cursor()\n",
    "cur.execute(\"\"\"\n",
    "    insert into bundestag_votings_meta\n",
    "        (date, title, subtitle)\n",
    "        VALUES (%s,%s,%s)\n",
    "        returning id\n",
    "\"\"\", (date,title,sub))\n",
    "db.commit()"
   ]
  },
  {
   "cell_type": "code",
   "execution_count": 171,
   "metadata": {
    "collapsed": false
   },
   "outputs": [],
   "source": [
    "x = cur.fetchall()"
   ]
  },
  {
   "cell_type": "code",
   "execution_count": 166,
   "metadata": {
    "collapsed": false
   },
   "outputs": [],
   "source": [
    "db.commit()"
   ]
  },
  {
   "cell_type": "code",
   "execution_count": 202,
   "metadata": {
    "collapsed": false
   },
   "outputs": [
    {
     "data": {
      "text/plain": [
       "'1+2'"
      ]
     },
     "execution_count": 202,
     "metadata": {},
     "output_type": "execute_result"
    }
   ],
   "source": [
    "\"{a}+{b}\".format(**{\"a\":1,\"b\":2})"
   ]
  },
  {
   "cell_type": "code",
   "execution_count": 206,
   "metadata": {
    "collapsed": false
   },
   "outputs": [
    {
     "data": {
      "text/plain": [
       "(('Aigner, Ilse', 'CDU/CSU', 1), ('Aumer, Peter', 'CDU/CSU', 1))"
      ]
     },
     "execution_count": 206,
     "metadata": {},
     "output_type": "execute_result"
    }
   ],
   "source": [
    "tuple((t[\"name\"],t[\"party\"],t[\"type\"]) for t in votings_data[0:2])"
   ]
  },
  {
   "cell_type": "code",
   "execution_count": 208,
   "metadata": {
    "collapsed": true
   },
   "outputs": [],
   "source": [
    "db_config = {\"db\":\"data\", \"user\":\"postgres\", \"pw\":\"postgres\", \"host\":\"localhost\"}"
   ]
  },
  {
   "cell_type": "code",
   "execution_count": 210,
   "metadata": {
    "collapsed": false
   },
   "outputs": [
    {
     "name": "stdout",
     "output_type": "stream",
     "text": [
      "\n",
      "            dbname='data'\n",
      "            user='postgres'\n",
      "            host='localhost'\n",
      "            password='postgres'\n",
      "        \n"
     ]
    }
   ],
   "source": [
    "print(\"\"\"\n",
    "            dbname='{db}'\n",
    "            user='{user}'\n",
    "            host='{host}'\n",
    "            password='{pw}'\n",
    "        \"\"\".format(**db_config))"
   ]
  },
  {
   "cell_type": "markdown",
   "metadata": {
    "collapsed": false
   },
   "source": [
    "#Fetch Member-IDs for Names"
   ]
  },
  {
   "cell_type": "code",
   "execution_count": 20,
   "metadata": {
    "collapsed": true
   },
   "outputs": [],
   "source": [
    "import psycopg2\n",
    "db = psycopg2.connect(\"\"\"\n",
    "    dbname='data'\n",
    "    user='postgres'\n",
    "    host='localhost'\n",
    "    password='postgres'\n",
    "\"\"\")"
   ]
  },
  {
   "cell_type": "code",
   "execution_count": 24,
   "metadata": {
    "collapsed": false
   },
   "outputs": [],
   "source": [
    "vd = votings_data[1:10]"
   ]
  },
  {
   "cell_type": "code",
   "execution_count": 25,
   "metadata": {
    "collapsed": false
   },
   "outputs": [
    {
     "data": {
      "text/plain": [
       "[{'name': 'Aumer, Peter', 'party': 'CDU/CSU', 'type': 1},\n",
       " {'name': 'Bär, Dorothee', 'party': 'CDU/CSU', 'type': 1},\n",
       " {'name': 'Bareiß, Thomas', 'party': 'CDU/CSU', 'type': 1},\n",
       " {'name': 'Barthle, Norbert', 'party': 'CDU/CSU', 'type': 1},\n",
       " {'name': 'Baumann, Günter', 'party': 'CDU/CSU', 'type': 1},\n",
       " {'name': 'Beck, Ernst-Reinhard', 'party': 'CDU/CSU', 'type': 1},\n",
       " {'name': 'Behrens, Manfred', 'party': 'CDU/CSU', 'type': 1},\n",
       " {'name': 'Bellmann, Veronika', 'party': 'CDU/CSU', 'type': 1},\n",
       " {'name': 'Bergner, Dr. Christoph', 'party': 'CDU/CSU', 'type': 1}]"
      ]
     },
     "execution_count": 25,
     "metadata": {},
     "output_type": "execute_result"
    }
   ],
   "source": [
    "vd"
   ]
  },
  {
   "cell_type": "code",
   "execution_count": 32,
   "metadata": {
    "collapsed": false
   },
   "outputs": [],
   "source": [
    "vdx = \",\".join([\"('{}','{}',{})\".format(v[\"name\"],v[\"party\"],v[\"type\"]) for v in vd])"
   ]
  },
  {
   "cell_type": "code",
   "execution_count": 39,
   "metadata": {
    "collapsed": false
   },
   "outputs": [],
   "source": [
    "cur = db.cursor()\n",
    "cur.execute(\"\"\"\n",
    "    create table new_table(\n",
    "        name text, \n",
    "        party text, \n",
    "        type integer, \n",
    "        id_member integer)\n",
    "    \"\"\")\n",
    "db.commit()\n",
    "\n",
    "cur.execute(\"insert into new_table (name, party, type) values \" + vdx)\n",
    "db.commit()\n",
    "\n",
    "cur.execute(\"\"\"\n",
    "    update new_table as t\n",
    "        set id_member = m.id\n",
    "        from bundestag_members m\n",
    "        where m.name = t.name\n",
    "    \"\"\")\n",
    "db.commit()"
   ]
  },
  {
   "cell_type": "code",
   "execution_count": 41,
   "metadata": {
    "collapsed": false
   },
   "outputs": [
    {
     "data": {
      "text/plain": [
       "'1,0'"
      ]
     },
     "execution_count": 41,
     "metadata": {},
     "output_type": "execute_result"
    }
   ],
   "source": [
    "\"{1},{0}\".format(0,1)"
   ]
  },
  {
   "cell_type": "code",
   "execution_count": null,
   "metadata": {
    "collapsed": true
   },
   "outputs": [],
   "source": []
  }
 ],
 "metadata": {
  "kernelspec": {
   "display_name": "Python 3",
   "language": "python",
   "name": "python3"
  },
  "language_info": {
   "codemirror_mode": {
    "name": "ipython",
    "version": 3
   },
   "file_extension": ".py",
   "mimetype": "text/x-python",
   "name": "python",
   "nbconvert_exporter": "python",
   "pygments_lexer": "ipython3",
   "version": "3.4.0"
  }
 },
 "nbformat": 4,
 "nbformat_minor": 0
}
