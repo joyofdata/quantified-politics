{
 "cells": [
  {
   "cell_type": "code",
   "execution_count": null,
   "metadata": {
    "collapsed": false
   },
   "outputs": [],
   "source": [
    "import requests\n",
    "from bs4 import BeautifulSoup \n",
    "import re\n",
    "import psycopg2"
   ]
  },
  {
   "cell_type": "code",
   "execution_count": null,
   "metadata": {
    "collapsed": true
   },
   "outputs": [],
   "source": [
    "html = requests.get(\"https://bundestag.de/apps/na/na/fraktion.form?id=338\")"
   ]
  },
  {
   "cell_type": "code",
   "execution_count": null,
   "metadata": {
    "collapsed": false
   },
   "outputs": [],
   "source": [
    "soup = BeautifulSoup(html.content)"
   ]
  },
  {
   "cell_type": "code",
   "execution_count": null,
   "metadata": {
    "collapsed": false
   },
   "outputs": [],
   "source": [
    "profiles = []\n",
    "for li in soup.find_all(\"li\"):\n",
    "    if \"id\" in li.attrs and li[\"id\"].startswith(\"abstimmungResult_mdb_\"):\n",
    "        gs = re.search(\"[^:]+: ([^:]+): (.+)$\", li.a.img[\"alt\"])\n",
    "        name = gs.group(1)\n",
    "        party = gs.group(2)\n",
    "        gs = re.search(\"[^\\d]+(\\d+)$\",li[\"id\"])\n",
    "        id = gs.group(1)\n",
    "        \n",
    "        url = \"http://bundestag.de/apps/na/na/fraktion.form?controller=fraktion&id=338&mdbId={}\".format(id)\n",
    "        print(name, party, url)\n",
    "        \n",
    "        prof_html = requests.get(url).content\n",
    "        prof_soup = BeautifulSoup(prof_html)\n",
    "        prof_url = prof_soup.find_all(\"div\", class_=\"namentlichPopupText\")[0].ul.li.a[\"href\"]\n",
    "        gs = re.search(\"//([^?]+)?\", prof_url)\n",
    "        prof_url = \"http://www.bundestag.de/{}\".format(gs.group(1))\n",
    "        profiles.append({\"name\":name, \"party\":party, \"id\": id, \"url\": prof_url})"
   ]
  },
  {
   "cell_type": "code",
   "execution_count": null,
   "metadata": {
    "collapsed": false,
    "scrolled": false
   },
   "outputs": [],
   "source": [
    "profiles"
   ]
  },
  {
   "cell_type": "code",
   "execution_count": null,
   "metadata": {
    "collapsed": false
   },
   "outputs": [],
   "source": [
    "str = \",\".join([\"('{}','{}','{}')\".format(m[\"name\"],m[\"party\"],m[\"url\"]) for m in profiles])"
   ]
  },
  {
   "cell_type": "code",
   "execution_count": null,
   "metadata": {
    "collapsed": true
   },
   "outputs": [],
   "source": [
    "con = psycopg2.connect(\"dbname='data' user='postgres' password='postgres' host='localhost'\")"
   ]
  },
  {
   "cell_type": "code",
   "execution_count": null,
   "metadata": {
    "collapsed": true
   },
   "outputs": [],
   "source": [
    "cur = con.cursor()\n",
    "cur.execute(\"insert into temp_tbl (name, party, url) values {}\".format(str))\n",
    "con.commit()"
   ]
  },
  {
   "cell_type": "code",
   "execution_count": null,
   "metadata": {
    "collapsed": false
   },
   "outputs": [],
   "source": [
    "len(profiles)"
   ]
  },
  {
   "cell_type": "code",
   "execution_count": null,
   "metadata": {
    "collapsed": true
   },
   "outputs": [],
   "source": []
  }
 ],
 "metadata": {
  "kernelspec": {
   "display_name": "Python 3",
   "language": "python",
   "name": "python3"
  },
  "language_info": {
   "codemirror_mode": {
    "name": "ipython",
    "version": 3
   },
   "file_extension": ".py",
   "mimetype": "text/x-python",
   "name": "python",
   "nbconvert_exporter": "python",
   "pygments_lexer": "ipython3",
   "version": "3.4.0"
  }
 },
 "nbformat": 4,
 "nbformat_minor": 0
}
